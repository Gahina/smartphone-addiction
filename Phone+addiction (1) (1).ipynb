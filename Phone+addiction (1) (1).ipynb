{
 "cells": [
  {
   "cell_type": "markdown",
   "metadata": {
    "collapsed": true
   },
   "source": [
    "# Dataset"
   ]
  },
  {
   "cell_type": "code",
   "execution_count": 1,
   "metadata": {},
   "outputs": [],
   "source": [
    "import numpy as np\n",
    "import pandas as pd\n",
    "import matplotlib.pyplot as plt\n",
    "import seaborn as sns\n",
    "%matplotlib inline\n",
    "import os"
   ]
  },
  {
   "cell_type": "code",
   "execution_count": 2,
   "metadata": {},
   "outputs": [],
   "source": [
    "#os.chdir(r\"C:\\Users\\USER\\Desktop\\Machine Learning A-Z Template Folder\")"
   ]
  },
  {
   "cell_type": "code",
   "execution_count": 3,
   "metadata": {},
   "outputs": [],
   "source": [
    "data=pd.read_csv('Mobile phone addiction survey.csv')"
   ]
  },
  {
   "cell_type": "code",
   "execution_count": 4,
   "metadata": {},
   "outputs": [
    {
     "name": "stdout",
     "output_type": "stream",
     "text": [
      "<class 'pandas.core.frame.DataFrame'>\n",
      "RangeIndex: 75 entries, 0 to 74\n",
      "Data columns (total 23 columns):\n",
      "Timestamp                                                                            75 non-null object\n",
      "Name                                                                                 75 non-null object\n",
      "Taking pics of class notes                                                           75 non-null object\n",
      "Do you buy books/ access books from your mobile?                                     75 non-null object\n",
      "How often is phone in your hand in a day?                                            75 non-null object\n",
      "Does your phone's battery last for a day?                                            75 non-null object\n",
      "When your phone's battery dies out, do you run for the charger?                      75 non-null object\n",
      "Do you worry about loosing your cellphone?                                           75 non-null object\n",
      "Do you take your phone to the bathroom?                                              75 non-null object\n",
      "Do you use your phone in any social gathering (parties)?                             75 non-null object\n",
      "How often do you check your phone without any notification?                          75 non-null object\n",
      "Do you check your phone just before going to sleep/just after waking up?             75 non-null object\n",
      "Do you keep your phone right next to you while sleeping?                             75 non-null object\n",
      "Do you check emails, missed calls, texts during class time?                          75 non-null object\n",
      "Do you find yourself relying on your phone too often whenever things get awkward?    75 non-null object\n",
      "Are you on your phone even while watching TV or eating food?                         75 non-null object\n",
      "Do you have a panic attack if you leave your phone elsewhere?                        75 non-null object\n",
      "How often do you take selfies/photographs?                                           75 non-null object\n",
      "You don't mind responding to messages or checking your phone while on date.          75 non-null object\n",
      "For how long do you talk over the phone  in a day?                                   75 non-null object\n",
      "How long do you use for phone for playing games?                                     75 non-null object\n",
      "Do you prefer a vacation or extended phone time?                                     75 non-null object\n",
      "sex                                                                                  75 non-null int64\n",
      "dtypes: int64(1), object(22)\n",
      "memory usage: 13.6+ KB\n"
     ]
    }
   ],
   "source": [
    "data.info()"
   ]
  },
  {
   "cell_type": "code",
   "execution_count": 5,
   "metadata": {},
   "outputs": [
    {
     "data": {
      "text/html": [
       "<div>\n",
       "<style scoped>\n",
       "    .dataframe tbody tr th:only-of-type {\n",
       "        vertical-align: middle;\n",
       "    }\n",
       "\n",
       "    .dataframe tbody tr th {\n",
       "        vertical-align: top;\n",
       "    }\n",
       "\n",
       "    .dataframe thead th {\n",
       "        text-align: right;\n",
       "    }\n",
       "</style>\n",
       "<table border=\"1\" class=\"dataframe\">\n",
       "  <thead>\n",
       "    <tr style=\"text-align: right;\">\n",
       "      <th></th>\n",
       "      <th>Timestamp</th>\n",
       "      <th>Name</th>\n",
       "      <th>Taking pics of class notes</th>\n",
       "      <th>Do you buy books/ access books from your mobile?</th>\n",
       "      <th>How often is phone in your hand in a day?</th>\n",
       "      <th>Does your phone's battery last for a day?</th>\n",
       "      <th>When your phone's battery dies out, do you run for the charger?</th>\n",
       "      <th>Do you worry about loosing your cellphone?</th>\n",
       "      <th>Do you take your phone to the bathroom?</th>\n",
       "      <th>Do you use your phone in any social gathering (parties)?</th>\n",
       "      <th>...</th>\n",
       "      <th>Do you check emails, missed calls, texts during class time?</th>\n",
       "      <th>Do you find yourself relying on your phone too often whenever things get awkward?</th>\n",
       "      <th>Are you on your phone even while watching TV or eating food?</th>\n",
       "      <th>Do you have a panic attack if you leave your phone elsewhere?</th>\n",
       "      <th>How often do you take selfies/photographs?</th>\n",
       "      <th>You don't mind responding to messages or checking your phone while on date.</th>\n",
       "      <th>For how long do you talk over the phone  in a day?</th>\n",
       "      <th>How long do you use for phone for playing games?</th>\n",
       "      <th>Do you prefer a vacation or extended phone time?</th>\n",
       "      <th>sex</th>\n",
       "    </tr>\n",
       "  </thead>\n",
       "  <tbody>\n",
       "    <tr>\n",
       "      <td>0</td>\n",
       "      <td>2019/11/16 6:50:15 pm GMT+5:30</td>\n",
       "      <td>Gahina Karak</td>\n",
       "      <td>Sometimes</td>\n",
       "      <td>Sometimes</td>\n",
       "      <td>Less than 6 hours</td>\n",
       "      <td>Yes</td>\n",
       "      <td>Yes</td>\n",
       "      <td>Yes</td>\n",
       "      <td>Never</td>\n",
       "      <td>Sometimes</td>\n",
       "      <td>...</td>\n",
       "      <td>Sometimes</td>\n",
       "      <td>No</td>\n",
       "      <td>Never</td>\n",
       "      <td>Yes</td>\n",
       "      <td>Sometimes</td>\n",
       "      <td>No</td>\n",
       "      <td>Less than an hour</td>\n",
       "      <td>Less than an hour</td>\n",
       "      <td>Vacation</td>\n",
       "      <td>0</td>\n",
       "    </tr>\n",
       "    <tr>\n",
       "      <td>1</td>\n",
       "      <td>2019/11/16 6:55:21 pm GMT+5:30</td>\n",
       "      <td>Shri</td>\n",
       "      <td>Always</td>\n",
       "      <td>Sometimes</td>\n",
       "      <td>More than 12 hours</td>\n",
       "      <td>Yes</td>\n",
       "      <td>Yes</td>\n",
       "      <td>Yes</td>\n",
       "      <td>Never</td>\n",
       "      <td>Sometimes</td>\n",
       "      <td>...</td>\n",
       "      <td>Sometimes</td>\n",
       "      <td>Yes</td>\n",
       "      <td>Never</td>\n",
       "      <td>Yes</td>\n",
       "      <td>Sometimes</td>\n",
       "      <td>No</td>\n",
       "      <td>Less than 3 hours</td>\n",
       "      <td>Less than an hour</td>\n",
       "      <td>Vacation</td>\n",
       "      <td>0</td>\n",
       "    </tr>\n",
       "    <tr>\n",
       "      <td>2</td>\n",
       "      <td>2019/11/16 6:59:51 pm GMT+5:30</td>\n",
       "      <td>Nidhi Gandhi</td>\n",
       "      <td>Always</td>\n",
       "      <td>Never</td>\n",
       "      <td>More than 12 hours</td>\n",
       "      <td>Yes</td>\n",
       "      <td>Yes</td>\n",
       "      <td>Yes</td>\n",
       "      <td>Never</td>\n",
       "      <td>Always</td>\n",
       "      <td>...</td>\n",
       "      <td>Always</td>\n",
       "      <td>No</td>\n",
       "      <td>Always</td>\n",
       "      <td>No</td>\n",
       "      <td>Always</td>\n",
       "      <td>No</td>\n",
       "      <td>Less than an hour</td>\n",
       "      <td>Less than an hour</td>\n",
       "      <td>Vacation</td>\n",
       "      <td>0</td>\n",
       "    </tr>\n",
       "    <tr>\n",
       "      <td>3</td>\n",
       "      <td>2019/11/16 7:01:47 pm GMT+5:30</td>\n",
       "      <td>Dipanwita Chowdhury</td>\n",
       "      <td>Always</td>\n",
       "      <td>Always</td>\n",
       "      <td>More than 12 hours</td>\n",
       "      <td>No</td>\n",
       "      <td>Yes</td>\n",
       "      <td>Yes</td>\n",
       "      <td>Always</td>\n",
       "      <td>Always</td>\n",
       "      <td>...</td>\n",
       "      <td>Sometimes</td>\n",
       "      <td>Yes</td>\n",
       "      <td>Sometimes</td>\n",
       "      <td>Yes</td>\n",
       "      <td>Always</td>\n",
       "      <td>Yes</td>\n",
       "      <td>More than 3 hours</td>\n",
       "      <td>More than 3 hours</td>\n",
       "      <td>Extended phone time</td>\n",
       "      <td>0</td>\n",
       "    </tr>\n",
       "    <tr>\n",
       "      <td>4</td>\n",
       "      <td>2019/11/16 7:02:43 pm GMT+5:30</td>\n",
       "      <td>Keshav kumar</td>\n",
       "      <td>Never</td>\n",
       "      <td>Never</td>\n",
       "      <td>Less than 12 hours</td>\n",
       "      <td>Yes</td>\n",
       "      <td>Yes</td>\n",
       "      <td>Yes</td>\n",
       "      <td>Always</td>\n",
       "      <td>Always</td>\n",
       "      <td>...</td>\n",
       "      <td>Sometimes</td>\n",
       "      <td>Yes</td>\n",
       "      <td>Always</td>\n",
       "      <td>No</td>\n",
       "      <td>Never</td>\n",
       "      <td>No</td>\n",
       "      <td>Less than an hour</td>\n",
       "      <td>Less than an hour</td>\n",
       "      <td>Vacation</td>\n",
       "      <td>1</td>\n",
       "    </tr>\n",
       "  </tbody>\n",
       "</table>\n",
       "<p>5 rows × 23 columns</p>\n",
       "</div>"
      ],
      "text/plain": [
       "                        Timestamp                 Name  \\\n",
       "0  2019/11/16 6:50:15 pm GMT+5:30         Gahina Karak   \n",
       "1  2019/11/16 6:55:21 pm GMT+5:30                 Shri   \n",
       "2  2019/11/16 6:59:51 pm GMT+5:30         Nidhi Gandhi   \n",
       "3  2019/11/16 7:01:47 pm GMT+5:30  Dipanwita Chowdhury   \n",
       "4  2019/11/16 7:02:43 pm GMT+5:30         Keshav kumar   \n",
       "\n",
       "  Taking pics of class notes Do you buy books/ access books from your mobile?  \\\n",
       "0                  Sometimes                                        Sometimes   \n",
       "1                     Always                                        Sometimes   \n",
       "2                     Always                                            Never   \n",
       "3                     Always                                           Always   \n",
       "4                      Never                                            Never   \n",
       "\n",
       "  How often is phone in your hand in a day?  \\\n",
       "0                         Less than 6 hours   \n",
       "1                        More than 12 hours   \n",
       "2                        More than 12 hours   \n",
       "3                        More than 12 hours   \n",
       "4                        Less than 12 hours   \n",
       "\n",
       "  Does your phone's battery last for a day?  \\\n",
       "0                                       Yes   \n",
       "1                                       Yes   \n",
       "2                                       Yes   \n",
       "3                                        No   \n",
       "4                                       Yes   \n",
       "\n",
       "  When your phone's battery dies out, do you run for the charger?  \\\n",
       "0                                                Yes                \n",
       "1                                                Yes                \n",
       "2                                                Yes                \n",
       "3                                                Yes                \n",
       "4                                                Yes                \n",
       "\n",
       "  Do you worry about loosing your cellphone?  \\\n",
       "0                                        Yes   \n",
       "1                                        Yes   \n",
       "2                                        Yes   \n",
       "3                                        Yes   \n",
       "4                                        Yes   \n",
       "\n",
       "  Do you take your phone to the bathroom?  \\\n",
       "0                                   Never   \n",
       "1                                   Never   \n",
       "2                                   Never   \n",
       "3                                  Always   \n",
       "4                                  Always   \n",
       "\n",
       "  Do you use your phone in any social gathering (parties)?  ...  \\\n",
       "0                                          Sometimes        ...   \n",
       "1                                          Sometimes        ...   \n",
       "2                                             Always        ...   \n",
       "3                                             Always        ...   \n",
       "4                                             Always        ...   \n",
       "\n",
       "  Do you check emails, missed calls, texts during class time?  \\\n",
       "0                                          Sometimes            \n",
       "1                                          Sometimes            \n",
       "2                                             Always            \n",
       "3                                          Sometimes            \n",
       "4                                          Sometimes            \n",
       "\n",
       "  Do you find yourself relying on your phone too often whenever things get awkward?  \\\n",
       "0                                                 No                                  \n",
       "1                                                Yes                                  \n",
       "2                                                 No                                  \n",
       "3                                                Yes                                  \n",
       "4                                                Yes                                  \n",
       "\n",
       "  Are you on your phone even while watching TV or eating food?  \\\n",
       "0                                              Never             \n",
       "1                                              Never             \n",
       "2                                             Always             \n",
       "3                                          Sometimes             \n",
       "4                                             Always             \n",
       "\n",
       "  Do you have a panic attack if you leave your phone elsewhere?  \\\n",
       "0                                                Yes              \n",
       "1                                                Yes              \n",
       "2                                                 No              \n",
       "3                                                Yes              \n",
       "4                                                 No              \n",
       "\n",
       "  How often do you take selfies/photographs?  \\\n",
       "0                                  Sometimes   \n",
       "1                                  Sometimes   \n",
       "2                                     Always   \n",
       "3                                     Always   \n",
       "4                                      Never   \n",
       "\n",
       "  You don't mind responding to messages or checking your phone while on date.  \\\n",
       "0                                                 No                            \n",
       "1                                                 No                            \n",
       "2                                                 No                            \n",
       "3                                                Yes                            \n",
       "4                                                 No                            \n",
       "\n",
       "  For how long do you talk over the phone  in a day?  \\\n",
       "0                                  Less than an hour   \n",
       "1                                  Less than 3 hours   \n",
       "2                                  Less than an hour   \n",
       "3                                  More than 3 hours   \n",
       "4                                  Less than an hour   \n",
       "\n",
       "  How long do you use for phone for playing games?  \\\n",
       "0                                Less than an hour   \n",
       "1                                Less than an hour   \n",
       "2                                Less than an hour   \n",
       "3                                More than 3 hours   \n",
       "4                                Less than an hour   \n",
       "\n",
       "  Do you prefer a vacation or extended phone time? sex  \n",
       "0                                         Vacation   0  \n",
       "1                                         Vacation   0  \n",
       "2                                         Vacation   0  \n",
       "3                              Extended phone time   0  \n",
       "4                                         Vacation   1  \n",
       "\n",
       "[5 rows x 23 columns]"
      ]
     },
     "execution_count": 5,
     "metadata": {},
     "output_type": "execute_result"
    }
   ],
   "source": [
    "data.head()"
   ]
  },
  {
   "cell_type": "code",
   "execution_count": 6,
   "metadata": {},
   "outputs": [],
   "source": [
    "data.drop([\"Timestamp\",\"Name\"],axis=1,inplace=True)"
   ]
  },
  {
   "cell_type": "code",
   "execution_count": 7,
   "metadata": {},
   "outputs": [
    {
     "data": {
      "text/plain": [
       "(75, 21)"
      ]
     },
     "execution_count": 7,
     "metadata": {},
     "output_type": "execute_result"
    }
   ],
   "source": [
    "data.shape"
   ]
  },
  {
   "cell_type": "markdown",
   "metadata": {},
   "source": [
    "# Renaming Columns"
   ]
  },
  {
   "cell_type": "code",
   "execution_count": 8,
   "metadata": {},
   "outputs": [],
   "source": [
    "data.columns=[\"q1\",\"q2\",\"q3\",\"q4\",\"q5\",\"q6\",\"q7\",\"q8\",\"q9\",\"q10\",\"q11\",\"q12\",\"q13\",\"q14\",\"q15\",\"q16\",\"q17\",\"q18\",\"q19\",\"q20\",\"Gender\"]"
   ]
  },
  {
   "cell_type": "code",
   "execution_count": 9,
   "metadata": {},
   "outputs": [
    {
     "data": {
      "text/plain": [
       "Index(['q1', 'q2', 'q3', 'q4', 'q5', 'q6', 'q7', 'q8', 'q9', 'q10', 'q11',\n",
       "       'q12', 'q13', 'q14', 'q15', 'q16', 'q17', 'q18', 'q19', 'q20',\n",
       "       'Gender'],\n",
       "      dtype='object')"
      ]
     },
     "execution_count": 9,
     "metadata": {},
     "output_type": "execute_result"
    }
   ],
   "source": [
    "data.columns"
   ]
  },
  {
   "cell_type": "markdown",
   "metadata": {},
   "source": [
    "# Converting columns as category type"
   ]
  },
  {
   "cell_type": "code",
   "execution_count": 10,
   "metadata": {},
   "outputs": [],
   "source": [
    "data['q1']=data.q1.astype('category')\n",
    "data['q2']=data.q2.astype('category')\n",
    "data['q3']=data.q3.astype('category')\n",
    "data['q4']=data.q4.astype('category')\n",
    "data['q5']=data.q5.astype('category')\n",
    "data['q6']=data.q6.astype('category')\n",
    "data['q7']=data.q7.astype('category')\n",
    "data['q8']=data.q8.astype('category')\n",
    "data['q9']=data.q9.astype('category')\n",
    "data['q10']=data.q10.astype('category')\n",
    "data['q11']=data.q11.astype('category')\n",
    "data['q12']=data.q12.astype('category')\n",
    "data['q13']=data.q13.astype('category')\n",
    "data['q14']=data.q14.astype('category')\n",
    "data['q15']=data.q15.astype('category')\n",
    "data['q16']=data.q16.astype('category')\n",
    "data['q17']=data.q17.astype('category')\n",
    "data['q18']=data.q18.astype('category')\n",
    "data['q19']=data.q19.astype('category')\n",
    "data['q20']=data.q20.astype('category')\n",
    "data['Gender']=data.Gender.astype('category')"
   ]
  },
  {
   "cell_type": "markdown",
   "metadata": {},
   "source": [
    "# Visualizing data with plots"
   ]
  },
  {
   "cell_type": "code",
   "execution_count": 11,
   "metadata": {},
   "outputs": [
    {
     "data": {
      "text/plain": [
       "<matplotlib.axes._subplots.AxesSubplot at 0x1fbebeb8dc8>"
      ]
     },
     "execution_count": 11,
     "metadata": {},
     "output_type": "execute_result"
    },
    {
     "data": {
      "image/png": "[encoded data removed]",
      "text/plain": [
       "<Figure size 432x288 with 1 Axes>"
      ]
     },
     "metadata": {
      "needs_background": "light"
     },
     "output_type": "display_data"
    }
   ],
   "source": [
    "sns.countplot(x=\"q1\",data=data)"
   ]
  },
  {
   "cell_type": "code",
   "execution_count": 12,
   "metadata": {},
   "outputs": [
    {
     "data": {
      "text/plain": [
       "<matplotlib.axes._subplots.AxesSubplot at 0x1fbed219248>"
      ]
     },
     "execution_count": 12,
     "metadata": {},
     "output_type": "execute_result"
    },
    {
     "data": {
      "image/png": "[encoded data removed]",
      "text/plain": [
       "<Figure size 432x288 with 1 Axes>"
      ]
     },
     "metadata": {
      "needs_background": "light"
     },
     "output_type": "display_data"
    }
   ],
   "source": [
    "sns.countplot(x=\"Gender\",hue=\"q1\",data=data)"
   ]
  },
  {
   "cell_type": "code",
   "execution_count": 13,
   "metadata": {},
   "outputs": [
    {
     "data": {
      "text/plain": [
       "<matplotlib.axes._subplots.AxesSubplot at 0x1fbed28ab48>"
      ]
     },
     "execution_count": 13,
     "metadata": {},
     "output_type": "execute_result"
    },
    {
     "data": {
      "image/png": "[encoded data removed]",
      "text/plain": [
       "<Figure size 432x288 with 1 Axes>"
      ]
     },
     "metadata": {
      "needs_background": "light"
     },
     "output_type": "display_data"
    }
   ],
   "source": [
    "sns.countplot(x=\"q2\",data=data)"
   ]
  },
  {
   "cell_type": "code",
   "execution_count": 14,
   "metadata": {},
   "outputs": [
    {
     "data": {
      "text/plain": [
       "<matplotlib.axes._subplots.AxesSubplot at 0x1fbed300048>"
      ]
     },
     "execution_count": 14,
     "metadata": {},
     "output_type": "execute_result"
    },
    {
     "data": {
      "image/png": "[encoded data removed]",
      "text/plain": [
       "<Figure size 432x288 with 1 Axes>"
      ]
     },
     "metadata": {
      "needs_background": "light"
     },
     "output_type": "display_data"
    }
   ],
   "source": [
    "sns.countplot(x=\"Gender\",hue=\"q2\",data=data)"
   ]
  },
  {
   "cell_type": "code",
   "execution_count": 15,
   "metadata": {},
   "outputs": [
    {
     "data": {
      "text/plain": [
       "<matplotlib.axes._subplots.AxesSubplot at 0x1fbed2b8ec8>"
      ]
     },
     "execution_count": 15,
     "metadata": {},
     "output_type": "execute_result"
    },
    {
     "data": {
      "image/png": "[encoded data removed]",
      "text/plain": [
       "<Figure size 432x288 with 1 Axes>"
      ]
     },
     "metadata": {
      "needs_background": "light"
     },
     "output_type": "display_data"
    }
   ],
   "source": [
    "sns.countplot(x=\"q3\",data=data)"
   ]
  },
  {
   "cell_type": "code",
   "execution_count": 16,
   "metadata": {},
   "outputs": [
    {
     "data": {
      "text/plain": [
       "<matplotlib.axes._subplots.AxesSubplot at 0x1fbed3de888>"
      ]
     },
     "execution_count": 16,
     "metadata": {},
     "output_type": "execute_result"
    },
    {
     "data": {
      "image/png": "[encoded data removed]",
      "text/plain": [
       "<Figure size 432x288 with 1 Axes>"
      ]
     },
     "metadata": {
      "needs_background": "light"
     },
     "output_type": "display_data"
    }
   ],
   "source": [
    "sns.countplot(x=\"Gender\",hue=\"q3\",data=data)"
   ]
  },
  {
   "cell_type": "code",
   "execution_count": 17,
   "metadata": {},
   "outputs": [
    {
     "data": {
      "text/plain": [
       "<matplotlib.axes._subplots.AxesSubplot at 0x1fbed37fa08>"
      ]
     },
     "execution_count": 17,
     "metadata": {},
     "output_type": "execute_result"
    },
    {
     "data": {
      "image/png": "[encoded data removed]",
      "text/plain": [
       "<Figure size 432x288 with 1 Axes>"
      ]
     },
     "metadata": {
      "needs_background": "light"
     },
     "output_type": "display_data"
    }
   ],
   "source": [
    "sns.countplot(x=\"q4\",data=data)"
   ]
  },
  {
   "cell_type": "code",
   "execution_count": 18,
   "metadata": {},
   "outputs": [
    {
     "data": {
      "text/plain": [
       "<matplotlib.axes._subplots.AxesSubplot at 0x1fbed4b28c8>"
      ]
     },
     "execution_count": 18,
     "metadata": {},
     "output_type": "execute_result"
    },
    {
     "data": {
      "image/png": "[encoded data removed]",
      "text/plain": [
       "<Figure size 432x288 with 1 Axes>"
      ]
     },
     "metadata": {
      "needs_background": "light"
     },
     "output_type": "display_data"
    }
   ],
   "source": [
    "sns.countplot(x=\"Gender\",hue=\"q4\",data=data)"
   ]
  },
  {
   "cell_type": "code",
   "execution_count": 19,
   "metadata": {},
   "outputs": [
    {
     "data": {
      "text/plain": [
       "<matplotlib.axes._subplots.AxesSubplot at 0x1fbed45e948>"
      ]
     },
     "execution_count": 19,
     "metadata": {},
     "output_type": "execute_result"
    },
    {
     "data": {
      "image/png": "[encoded data removed]",
      "text/plain": [
       "<Figure size 432x288 with 1 Axes>"
      ]
     },
     "metadata": {
      "needs_background": "light"
     },
     "output_type": "display_data"
    }
   ],
   "source": [
    "sns.countplot(x=\"q5\",data=data)"
   ]
  },
  {
   "cell_type": "code",
   "execution_count": 20,
   "metadata": {},
   "outputs": [
    {
     "data": {
      "text/plain": [
       "<matplotlib.axes._subplots.AxesSubplot at 0x1fbed576f88>"
      ]
     },
     "execution_count": 20,
     "metadata": {},
     "output_type": "execute_result"
    },
    {
     "data": {
      "image/png": "[encoded data removed]",
      "text/plain": [
       "<Figure size 432x288 with 1 Axes>"
      ]
     },
     "metadata": {
      "needs_background": "light"
     },
     "output_type": "display_data"
    }
   ],
   "source": [
    "sns.countplot(x=\"Gender\",hue=\"q5\",data=data)"
   ]
  },
  {
   "cell_type": "code",
   "execution_count": 21,
   "metadata": {},
   "outputs": [
    {
     "data": {
      "text/plain": [
       "<matplotlib.axes._subplots.AxesSubplot at 0x1fbed5bb6c8>"
      ]
     },
     "execution_count": 21,
     "metadata": {},
     "output_type": "execute_result"
    },
    {
     "data": {
      "image/png": "[encoded data removed]",
      "text/plain": [
       "<Figure size 432x288 with 1 Axes>"
      ]
     },
     "metadata": {
      "needs_background": "light"
     },
     "output_type": "display_data"
    }
   ],
   "source": [
    "sns.countplot(x=\"q6\",data=data)"
   ]
  },
  {
   "cell_type": "code",
   "execution_count": 22,
   "metadata": {},
   "outputs": [
    {
     "data": {
      "text/plain": [
       "<matplotlib.axes._subplots.AxesSubplot at 0x1fbed576d48>"
      ]
     },
     "execution_count": 22,
     "metadata": {},
     "output_type": "execute_result"
    },
    {
     "data": {
      "image/png": "[encoded data removed]",
      "text/plain": [
       "<Figure size 432x288 with 1 Axes>"
      ]
     },
     "metadata": {
      "needs_background": "light"
     },
     "output_type": "display_data"
    }
   ],
   "source": [
    "sns.countplot(x=\"Gender\",hue=\"q6\",data=data)"
   ]
  },
  {
   "cell_type": "code",
   "execution_count": 23,
   "metadata": {},
   "outputs": [
    {
     "data": {
      "text/plain": [
       "<matplotlib.axes._subplots.AxesSubplot at 0x1fbed690f88>"
      ]
     },
     "execution_count": 23,
     "metadata": {},
     "output_type": "execute_result"
    },
    {
     "data": {
      "image/png": "[encoded data removed]",
      "text/plain": [
       "<Figure size 432x288 with 1 Axes>"
      ]
     },
     "metadata": {
      "needs_background": "light"
     },
     "output_type": "display_data"
    }
   ],
   "source": [
    "sns.countplot(x=\"q7\",data=data)"
   ]
  },
  {
   "cell_type": "code",
   "execution_count": 24,
   "metadata": {},
   "outputs": [
    {
     "data": {
      "text/plain": [
       "<matplotlib.axes._subplots.AxesSubplot at 0x1fbed6d7c08>"
      ]
     },
     "execution_count": 24,
     "metadata": {},
     "output_type": "execute_result"
    },
    {
     "data": {
      "image/png": "[encoded data removed]",
      "text/plain": [
       "<Figure size 432x288 with 1 Axes>"
      ]
     },
     "metadata": {
      "needs_background": "light"
     },
     "output_type": "display_data"
    }
   ],
   "source": [
    "sns.countplot(x=\"Gender\",hue=\"q7\",data=data)"
   ]
  },
  {
   "cell_type": "code",
   "execution_count": 25,
   "metadata": {},
   "outputs": [
    {
     "data": {
      "text/plain": [
       "<matplotlib.axes._subplots.AxesSubplot at 0x1fbed745ac8>"
      ]
     },
     "execution_count": 25,
     "metadata": {},
     "output_type": "execute_result"
    },
    {
     "data": {
      "image/png": "[encoded data removed]",
      "text/plain": [
       "<Figure size 432x288 with 1 Axes>"
      ]
     },
     "metadata": {
      "needs_background": "light"
     },
     "output_type": "display_data"
    }
   ],
   "source": [
    "sns.countplot(x=\"q8\",data=data)"
   ]
  },
  {
   "cell_type": "code",
   "execution_count": 26,
   "metadata": {},
   "outputs": [
    {
     "data": {
      "text/plain": [
       "<matplotlib.axes._subplots.AxesSubplot at 0x1fbed79e848>"
      ]
     },
     "execution_count": 26,
     "metadata": {},
     "output_type": "execute_result"
    },
    {
     "data": {
      "image/png": "[encoded data removed]",
      "text/plain": [
       "<Figure size 432x288 with 1 Axes>"
      ]
     },
     "metadata": {
      "needs_background": "light"
     },
     "output_type": "display_data"
    }
   ],
   "source": [
    "sns.countplot(x=\"Gender\",hue=\"q8\",data=data)"
   ]
  },
  {
   "cell_type": "markdown",
   "metadata": {},
   "source": [
    "# Encoding Categorical data"
   ]
  },
  {
   "cell_type": "code",
   "execution_count": 27,
   "metadata": {},
   "outputs": [],
   "source": [
    "from sklearn.compose import ColumnTransformer\n",
    "from sklearn.preprocessing import OneHotEncoder\n",
    "ct = ColumnTransformer(transformers=[('encoder', OneHotEncoder(),[0,1,2,3,4,5,6,7,8,9,10,11,12,13,14,15,16,17,18,19,20])], remainder='passthrough')\n",
    "X = np.array(ct.fit_transform(data))"
   ]
  },
  {
   "cell_type": "code",
   "execution_count": 28,
   "metadata": {},
   "outputs": [
    {
     "data": {
      "text/plain": [
       "(75, 54)"
      ]
     },
     "execution_count": 28,
     "metadata": {},
     "output_type": "execute_result"
    }
   ],
   "source": [
    "X.shape"
   ]
  },
  {
   "cell_type": "code",
   "execution_count": 29,
   "metadata": {},
   "outputs": [
    {
     "name": "stdout",
     "output_type": "stream",
     "text": [
      "[[0. 0. 1. ... 1. 1. 0.]\n",
      " [1. 0. 0. ... 1. 1. 0.]\n",
      " [1. 0. 0. ... 1. 1. 0.]\n",
      " ...\n",
      " [0. 0. 1. ... 1. 0. 1.]\n",
      " [0. 0. 1. ... 1. 0. 1.]\n",
      " [0. 0. 1. ... 1. 1. 0.]]\n"
     ]
    }
   ],
   "source": [
    "print(X)"
   ]
  },
  {
   "cell_type": "markdown",
   "metadata": {},
   "source": [
    "# K-Means Clustring"
   ]
  },
  {
   "cell_type": "code",
   "execution_count": 30,
   "metadata": {},
   "outputs": [
    {
     "data": {
      "image/png": "[encoded data removed]",
      "text/plain": [
       "<Figure size 432x288 with 1 Axes>"
      ]
     },
     "metadata": {
      "needs_background": "light"
     },
     "output_type": "display_data"
    }
   ],
   "source": [
    "# calculate distortion for a range of number of cluster\n",
    "from sklearn.cluster import KMeans\n",
    "distortions = []\n",
    "for i in range(1, 11):\n",
    "    km = KMeans(\n",
    "        n_clusters=i, init='random',\n",
    "        n_init=10, max_iter=300,\n",
    "        tol=1e-04, random_state=0\n",
    "    )\n",
    "    km.fit(X)\n",
    "    distortions.append(km.inertia_)\n",
    "\n",
    "# plot\n",
    "plt.plot(range(1, 11), distortions, marker='o')\n",
    "plt.xlabel('Number of clusters')\n",
    "plt.ylabel('Distortion')\n",
    "plt.show()"
   ]
  },
  {
   "cell_type": "code",
   "execution_count": 31,
   "metadata": {},
   "outputs": [],
   "source": [
    "kmeans = KMeans(n_clusters = 3, init = 'k-means++', random_state = 42)\n",
    "y_kmeans = kmeans.fit_predict(X)"
   ]
  },
  {
   "cell_type": "code",
   "execution_count": 32,
   "metadata": {},
   "outputs": [
    {
     "data": {
      "text/plain": [
       "array([0, 1, 0, 1, 0, 1, 1, 2, 1, 0, 2, 1, 2, 2, 2, 1, 2, 1, 0, 2, 0, 2,\n",
       "       2, 2, 0, 1, 1, 1, 1, 2, 1, 2, 0, 1, 1, 0, 1, 1, 1, 1, 2, 0, 1, 1,\n",
       "       0, 0, 1, 1, 2, 0, 1, 1, 2, 0, 2, 1, 2, 2, 2, 1, 1, 0, 2, 2, 2, 0,\n",
       "       2, 2, 2, 2, 2, 0, 0, 0, 1])"
      ]
     },
     "execution_count": 32,
     "metadata": {},
     "output_type": "execute_result"
    }
   ],
   "source": [
    "y_kmeans"
   ]
  },
  {
   "cell_type": "code",
   "execution_count": 33,
   "metadata": {},
   "outputs": [
    {
     "data": {
      "text/plain": [
       "(75, 54)"
      ]
     },
     "execution_count": 33,
     "metadata": {},
     "output_type": "execute_result"
    }
   ],
   "source": [
    "X.shape"
   ]
  },
  {
   "cell_type": "code",
   "execution_count": 34,
   "metadata": {},
   "outputs": [],
   "source": [
    "data[\"Level of addiction\"]=y_kmeans"
   ]
  },
  {
   "cell_type": "code",
   "execution_count": 35,
   "metadata": {},
   "outputs": [],
   "source": [
    "data[\"Level of addiction\"].replace(0,\"Not addicted\",inplace=True)\n",
    "data[\"Level of addiction\"].replace(1,\"Addicted\",inplace=True)\n",
    "data[\"Level of addiction\"].replace(2,\"Highly addicted\",inplace=True)"
   ]
  },
  {
   "cell_type": "code",
   "execution_count": 36,
   "metadata": {},
   "outputs": [
    {
     "data": {
      "text/plain": [
       "<matplotlib.axes._subplots.AxesSubplot at 0x1fbedfc7b08>"
      ]
     },
     "execution_count": 36,
     "metadata": {},
     "output_type": "execute_result"
    },
    {
     "data": {
      "image/png": "[encoded data removed]",
      "text/plain": [
       "<Figure size 432x288 with 1 Axes>"
      ]
     },
     "metadata": {
      "needs_background": "light"
     },
     "output_type": "display_data"
    }
   ],
   "source": [
    "sns.countplot(x=\"Level of addiction\",data=data)"
   ]
  },
  {
   "cell_type": "code",
   "execution_count": 37,
   "metadata": {},
   "outputs": [
    {
     "data": {
      "image/png": "[encoded data removed]",
      "text/plain": [
       "<Figure size 432x288 with 1 Axes>"
      ]
     },
     "metadata": {
      "needs_background": "light"
     },
     "output_type": "display_data"
    }
   ],
   "source": [
    "plt.scatter(X[y_kmeans == 0, 0], X[y_kmeans == 0, 1],  c = 'red', label = 'Cluster 1')\n",
    "plt.scatter(X[y_kmeans == 1, 0], X[y_kmeans == 1, 1],  c = 'blue', label = 'Cluster 2')\n",
    "plt.scatter(X[y_kmeans == 2, 0], X[y_kmeans == 2, 1],  c = 'green', label = 'Cluster 3')\n",
    "plt.scatter(kmeans.cluster_centers_[:, 0], kmeans.cluster_centers_[:, 1], c = 'yellow', label = 'Centroids')\n",
    "plt.title('Clusters of Users')\n",
    "plt.xlabel('Addiction')\n",
    "plt.ylabel('Usage')\n",
    "plt.legend()\n",
    "plt.show()"
   ]
  },
  {
   "cell_type": "code",
   "execution_count": 38,
   "metadata": {},
   "outputs": [],
   "source": [
    "new_data=pd.read_csv(\"Mobile phone addiction survey.csv\")"
   ]
  },
  {
   "cell_type": "code",
   "execution_count": 39,
   "metadata": {},
   "outputs": [],
   "source": [
    "Pred_dataset=pd.DataFrame(new_data[\"Name\"],columns=[\"Name\"])"
   ]
  },
  {
   "cell_type": "code",
   "execution_count": 40,
   "metadata": {},
   "outputs": [],
   "source": [
    "Pred_dataset[\"Prediction\"]=data[\"Level of addiction\"]"
   ]
  },
  {
   "cell_type": "code",
   "execution_count": 41,
   "metadata": {},
   "outputs": [
    {
     "data": {
      "text/html": [
       "<div>\n",
       "<style scoped>\n",
       "    .dataframe tbody tr th:only-of-type {\n",
       "        vertical-align: middle;\n",
       "    }\n",
       "\n",
       "    .dataframe tbody tr th {\n",
       "        vertical-align: top;\n",
       "    }\n",
       "\n",
       "    .dataframe thead th {\n",
       "        text-align: right;\n",
       "    }\n",
       "</style>\n",
       "<table border=\"1\" class=\"dataframe\">\n",
       "  <thead>\n",
       "    <tr style=\"text-align: right;\">\n",
       "      <th></th>\n",
       "      <th>Name</th>\n",
       "      <th>Prediction</th>\n",
       "    </tr>\n",
       "  </thead>\n",
       "  <tbody>\n",
       "    <tr>\n",
       "      <td>0</td>\n",
       "      <td>Gahina Karak</td>\n",
       "      <td>Not addicted</td>\n",
       "    </tr>\n",
       "    <tr>\n",
       "      <td>1</td>\n",
       "      <td>Shri</td>\n",
       "      <td>Addicted</td>\n",
       "    </tr>\n",
       "    <tr>\n",
       "      <td>2</td>\n",
       "      <td>Nidhi Gandhi</td>\n",
       "      <td>Not addicted</td>\n",
       "    </tr>\n",
       "    <tr>\n",
       "      <td>3</td>\n",
       "      <td>Dipanwita Chowdhury</td>\n",
       "      <td>Addicted</td>\n",
       "    </tr>\n",
       "    <tr>\n",
       "      <td>4</td>\n",
       "      <td>Keshav kumar</td>\n",
       "      <td>Not addicted</td>\n",
       "    </tr>\n",
       "    <tr>\n",
       "      <td>...</td>\n",
       "      <td>...</td>\n",
       "      <td>...</td>\n",
       "    </tr>\n",
       "    <tr>\n",
       "      <td>70</td>\n",
       "      <td>Abhishek Kumar Lalu</td>\n",
       "      <td>Highly addicted</td>\n",
       "    </tr>\n",
       "    <tr>\n",
       "      <td>71</td>\n",
       "      <td>Suman Besra</td>\n",
       "      <td>Not addicted</td>\n",
       "    </tr>\n",
       "    <tr>\n",
       "      <td>72</td>\n",
       "      <td>Rahul Vishal Mishra</td>\n",
       "      <td>Not addicted</td>\n",
       "    </tr>\n",
       "    <tr>\n",
       "      <td>73</td>\n",
       "      <td>Akhilendu Roy</td>\n",
       "      <td>Not addicted</td>\n",
       "    </tr>\n",
       "    <tr>\n",
       "      <td>74</td>\n",
       "      <td>Anushka</td>\n",
       "      <td>Addicted</td>\n",
       "    </tr>\n",
       "  </tbody>\n",
       "</table>\n",
       "<p>75 rows × 2 columns</p>\n",
       "</div>"
      ],
      "text/plain": [
       "                    Name       Prediction\n",
       "0           Gahina Karak     Not addicted\n",
       "1                   Shri         Addicted\n",
       "2           Nidhi Gandhi     Not addicted\n",
       "3    Dipanwita Chowdhury         Addicted\n",
       "4           Keshav kumar     Not addicted\n",
       "..                   ...              ...\n",
       "70   Abhishek Kumar Lalu  Highly addicted\n",
       "71           Suman Besra     Not addicted\n",
       "72  Rahul Vishal Mishra      Not addicted\n",
       "73         Akhilendu Roy     Not addicted\n",
       "74               Anushka         Addicted\n",
       "\n",
       "[75 rows x 2 columns]"
      ]
     },
     "execution_count": 41,
     "metadata": {},
     "output_type": "execute_result"
    }
   ],
   "source": [
    "Pred_dataset"
   ]
  },
  {
   "cell_type": "markdown",
   "metadata": {},
   "source": [
    "# FUN TIME"
   ]
  },
  {
   "cell_type": "code",
   "execution_count": 42,
   "metadata": {},
   "outputs": [
    {
     "name": "stdout",
     "output_type": "stream",
     "text": [
      "Rohit Raj\n",
      "Aditya\n",
      "Abhillash Paal\n",
      "RATHORE\n",
      "Mayank anand\n",
      "Gaurav Kumar\n",
      "Abhigyan deep\n",
      "shanu\n",
      "Shubham\n",
      "Ankit\n",
      "Srikant Kumat\n",
      "Nishit Jaiswal\n",
      "Uditanshu\n",
      "Shubham\n",
      "Chetan\n",
      "Rashid Hussain\n",
      "ADARSH \n",
      "Hemant\n",
      "Gitesh kumar chaubey\n",
      "Gourab\n",
      "AMAN KUMAR\n",
      "Ajay \n",
      "Shashikant kumar\n",
      "Aman\n",
      "Indrajeet Kumar\n",
      "ATUL KR\n",
      "Abhishek Kumar Lalu\n"
     ]
    }
   ],
   "source": [
    "for i in range(75):\n",
    "    if Pred_dataset[\"Prediction\"][i]==\"Highly addicted\":\n",
    "        print(Pred_dataset[\"Name\"][i])"
   ]
  },
  {
   "cell_type": "code",
   "execution_count": 43,
   "metadata": {},
   "outputs": [
    {
     "name": "stdout",
     "output_type": "stream",
     "text": [
      "Shri\n",
      "Dipanwita Chowdhury\n",
      "Manika\n",
      "SATAKSHI \n",
      "Shreya Mallik\n",
      "Ashmita Sen\n",
      "Milind Anand\n",
      "Anshala gupta \n",
      "Priya Sahoo\n",
      "Nisha verma\n",
      "Arpita\n",
      "Soma Moi\n",
      "Nandita \n",
      "Debangshi\n",
      "Shivani\n",
      "Payel Das Dewan\n",
      "Riya Mukherjee \n",
      "Arti Kumari \n",
      "Arunima Lahiri\n",
      "Snigdha\n",
      "Kumari Prity\n",
      "Disha Butalia\n",
      "SHWETA MONDAL\n",
      "Pooja Modak\n",
      "Manish kumar\n",
      "Dishani\n",
      "Rajeshwari Bandyopadhyay\n",
      "Tonu\n",
      "Anushka\n"
     ]
    }
   ],
   "source": [
    "for i in range(75):\n",
    "    if Pred_dataset[\"Prediction\"][i]==\"Addicted\":\n",
    "        print(Pred_dataset[\"Name\"][i])"
   ]
  },
  {
   "cell_type": "code",
   "execution_count": 44,
   "metadata": {},
   "outputs": [
    {
     "name": "stdout",
     "output_type": "stream",
     "text": [
      "Gahina Karak\n",
      "Nidhi Gandhi\n",
      "Keshav kumar\n",
      "Prince\n",
      "Md Shahbaz Ahmed\n",
      "Gourab Kumar Burman\n",
      "Naween Nischal Nag\n",
      "Divyank\n",
      "SimSam\n",
      "Shivam Narula\n",
      "Purvi Prasad\n",
      "Debjit Goswami\n",
      "Amit Kumar\n",
      "Navneet kr singh\n",
      "Kunal\n",
      "Aidai\n",
      "Suman Besra\n",
      "Rahul Vishal Mishra \n",
      "Akhilendu Roy\n"
     ]
    }
   ],
   "source": [
    "for i in range(75):\n",
    "    if Pred_dataset[\"Prediction\"][i]==\"Not addicted\":\n",
    "        print(Pred_dataset[\"Name\"][i])"
   ]
  }
 ],
 "metadata": {
  "kernelspec": {
   "display_name": "Python 3",
   "language": "python",
   "name": "python3"
  },
  "language_info": {
   "codemirror_mode": {
    "name": "ipython",
    "version": 3
   },
   "file_extension": ".py",
   "mimetype": "text/x-python",
   "name": "python",
   "nbconvert_exporter": "python",
   "pygments_lexer": "ipython3",
   "version": "3.7.4"
  }
 },
 "nbformat": 4,
 "nbformat_minor": 2
}
